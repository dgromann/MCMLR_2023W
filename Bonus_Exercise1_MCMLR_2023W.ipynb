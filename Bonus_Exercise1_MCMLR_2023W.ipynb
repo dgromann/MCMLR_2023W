{
  "nbformat": 4,
  "nbformat_minor": 0,
  "metadata": {
    "colab": {
      "provenance": [],
      "authorship_tag": "ABX9TyNBiOpOl+q958s4r9xEGRSw",
      "include_colab_link": true
    },
    "kernelspec": {
      "name": "python3",
      "display_name": "Python 3"
    },
    "language_info": {
      "name": "python"
    }
  },
  "cells": [
    {
      "cell_type": "markdown",
      "metadata": {
        "id": "view-in-github",
        "colab_type": "text"
      },
      "source": [
        "<a href=\"https://colab.research.google.com/github/dgromann/MCMLR_2023W/blob/main/Bonus_Exercise1_MCMLR_2023W.ipynb\" target=\"_parent\"><img src=\"https://colab.research.google.com/assets/colab-badge.svg\" alt=\"Open In Colab\"/></a>"
      ]
    },
    {
      "cell_type": "markdown",
      "source": [
        "# **Bonus Exercises 1: Multilingual and Crosslingual Methods and Language Resources**\n",
        "\n",
        "This notebook represents two bonus exercises for the lecture Multilingual and Crosslingual Methods and Language Resources (2023W 340168-1). For each of these you can obtain a maximum of 3 points that are added to the points of your final exam. The sections where your code should go are marked with 👋 ⚒.\n",
        "\n",
        "Bonus Exercise 1: Information Extraction with TF-IDF"
      ],
      "metadata": {
        "id": "Uem6oQr40aBL"
      }
    },
    {
      "cell_type": "markdown",
      "source": [
        "## **Information Extraction with TF-IDF**\n",
        "\n",
        "For high-resource languages, supervised approaches represent a viable solution. However, for low-resource languages it is at times necessary to use unsupervised approaches to obtain information from texts. We will work on English here for the sake of understanding the results, but the methods can be applied to any language.\n",
        "\n",
        "For this exercise, you will implement a mini-example of information extraction, or rather feature extraction, with Term Frequency-Inverse Document Frequency (TF-IDF)."
      ],
      "metadata": {
        "id": "54vas_gz00f_"
      }
    },
    {
      "cell_type": "markdown",
      "source": [
        "### **Term Frequency-Inverse Document Frequency (TF-IDF)**\n",
        "\n",
        "In this exercise, you will write a simple implementation of the TF-IDF algorithm and compare your implementation with the one in sklearn. TF-IDF represents an effective method for extracting features from text without any supervision. In documents, there are usually some terms that occur frequently, but might not represent the best features for identifying categories or topics in a document. Instead, TF-IDF assigns higher values to words that occur frequently in one document, but not in all documents. Thereby, they provide more and better information on the potential contents of a document than rare frequency counts. Originally, the technique was used for ranking documents in search engines. Today, it is still used for topic modeling, i.e., identifying topics of documents automatically, term extraction, etc."
      ],
      "metadata": {
        "id": "IrjFknrD6xci"
      }
    },
    {
      "cell_type": "markdown",
      "source": [
        "### Toy Example of Documents\n",
        "\n",
        "We will use the following toy example, where each sentence in the list is considered a document on its own."
      ],
      "metadata": {
        "id": "CF-Ijn7B99gv"
      }
    },
    {
      "cell_type": "code",
      "source": [
        "docs = [\"this is the story behind the red house on the street with twenty houses\",\n",
        "      \"a man decided to build his own house on our street, which should change the street\",\n",
        "       \"all the houses were painted white and all the neighbors were happy with this\",\n",
        "       \"the man thought to himself this is wrong and painted his house red\",\n",
        "        \"he went from his house to his neigbor's house and explained\",\n",
        "       \"his neighbor thought this is a good idea and painted his house orange\",\n",
        "       \"now they thought the houses started to look right for a street named rainbow road\"\n",
        "       ]"
      ],
      "metadata": {
        "id": "_GXb_nE8-NCl"
      },
      "execution_count": null,
      "outputs": []
    },
    {
      "cell_type": "markdown",
      "source": [
        "Use [spaCy](https://spacy.io/) to preprocess these \"documents\" in the list `docs`. The folowing preprocessing steps need to be performed:\n",
        "\n",
        "\n",
        "1.   Tokenization\n",
        "2.   POS tagging\n",
        "3.   Lemmatization\n",
        "\n",
        "We first need to import spaCy and load the English model.\n"
      ],
      "metadata": {
        "id": "sc4YjXLlA8-j"
      }
    },
    {
      "cell_type": "code",
      "source": [
        "import spacy\n",
        "\n",
        "nlp = spacy.load(\"en_core_web_sm\")"
      ],
      "metadata": {
        "id": "ZdopIdKoCXqc"
      },
      "execution_count": null,
      "outputs": []
    },
    {
      "cell_type": "markdown",
      "source": [
        "👋 ⚒  Perform the spacy preprocessing steps described above and remove the POS tags that are indicated in the list below."
      ],
      "metadata": {
        "id": "yr1jvVCzCgfN"
      }
    },
    {
      "cell_type": "code",
      "source": [
        "pos_to_be_removed =['ADV','PRON','CCONJ','PUNCT','PART','DET','ADP','SPACE']\n",
        "\n",
        "def preprocess(sentence):\n",
        "\n",
        "preprocessed = []\n",
        "for sentence in docs:\n",
        "  preprocessed.append(preprocess(sentence))\n",
        "\n",
        "print(\"Preprocessed sentences: \", preprocessed)"
      ],
      "metadata": {
        "id": "ilDnP6k3B89S"
      },
      "execution_count": null,
      "outputs": []
    },
    {
      "cell_type": "markdown",
      "source": [
        "### Term Frequency (TF)\n",
        "\n",
        "The term frequency is calculated as the relative frequency of the word in a specific document, that is, the absolute frequency divided the number of words in the document. For the term $t$ in document  $d$, this is the count of the term $n_{t,d}$ divided by the count of all words $\\sum n_{t',d}$ in the document $d$ :\n",
        "\n",
        "$TF_{i,j} = \\frac{n_{t,d}}{\\sum n_{t',d}}$\n",
        "\n",
        "\n",
        "👋 ⚒  Write a function to calculate the Term Freqquency (TF) for each word in each document. The result will be a list of term frequencies for each document."
      ],
      "metadata": {
        "id": "hpjVDfjf91o-"
      }
    },
    {
      "cell_type": "code",
      "source": [
        "def compute_term_frequency(bag_of_words):\n",
        "\n",
        "\n",
        "term_frequencies = []\n",
        "for doc in preprocessed:\n",
        "  term_frequencies.append(compute_term_frequency(doc))\n"
      ],
      "metadata": {
        "id": "BCv-y_W_GCYn"
      },
      "execution_count": null,
      "outputs": []
    },
    {
      "cell_type": "markdown",
      "source": [
        "### Inverse Document Frequency (IDF)\n",
        "\n",
        "The document frequency $df_t$ is the number of documents in which the term $t$ occurs. We again consider the relative document frequency, that is $df_t$ divided by the number of all documents $d$.\n",
        "\n",
        "$DF = \\frac{df_t}{d}$\n",
        "\n",
        "It has turned out that the inverse of this formula performs better, especially when scaling it with a logarithm. This gives us the Inverse Document Frequency (IDF):\n",
        "\n",
        "$IDF = \\log \\frac{d}{df_t}$\n",
        "\n",
        "👋 ⚒  Write a function to calculate the Inverse Document Frequency (IDF). The result will be a list of words with IDF values."
      ],
      "metadata": {
        "id": "1jX5HGqn94Zf"
      }
    },
    {
      "cell_type": "code",
      "source": [
        "import math\n",
        "\n",
        "# the logarithm can be calculated with math.log()\n",
        "\n",
        "def compute_inverse_document_frequency(full_doc_list):\n",
        "#Your code should go here\n",
        "\n",
        "idf_values = compute_inverse_document_frequency(preprocessed)\n",
        "print(idf_values)"
      ],
      "metadata": {
        "id": "2WciKvu1GZgZ"
      },
      "execution_count": null,
      "outputs": []
    },
    {
      "cell_type": "markdown",
      "source": [
        "### TF-IDF\n",
        "\n",
        "The final value is calculated by multiplying the values of the previous two calculations:\n",
        "\n",
        "$TF-IDF = tf_t \\ x \\ log \\frac{d}{df_t}$\n",
        "\n",
        "👋 ⚒  Write a function to calculate the final TF-IDF scores for each word."
      ],
      "metadata": {
        "id": "6qcAp5d1M73j"
      }
    },
    {
      "cell_type": "code",
      "source": [
        "#Your code should go here"
      ],
      "metadata": {
        "id": "VhsypMeDNU0c"
      },
      "execution_count": null,
      "outputs": []
    },
    {
      "cell_type": "markdown",
      "source": [
        "### Compare your results to sklearn\n",
        "\n",
        "sklearn provides an implementation for calculating the TF-IDF values. Compare your calculations to these values.\n",
        "\n",
        "👋 ⚒  Use the [TfidfVectorizer of sklearn](https://scikit-learn.org/stable/modules/generated/sklearn.feature_extraction.text.TfidfVectorizer.html) to calculate the TF-IDF values for the same corpus as above."
      ],
      "metadata": {
        "id": "E8z8KseAN9kh"
      }
    },
    {
      "cell_type": "code",
      "source": [
        "from sklearn.feature_extraction.text import TfidfVectorizer\n",
        "\n",
        "#Your code here"
      ],
      "metadata": {
        "id": "MMw5aTNcOF3C"
      },
      "execution_count": null,
      "outputs": []
    },
    {
      "cell_type": "markdown",
      "source": [
        "What can you learn about the documents based on these extracted feautres?"
      ],
      "metadata": {
        "id": "LuDeyg_7SCfn"
      }
    },
    {
      "cell_type": "markdown",
      "source": [
        "👋 ⚒  Write your textual answer right here."
      ],
      "metadata": {
        "id": "JsIyayyCSGXI"
      }
    }
  ]
}